{
 "cells": [
  {
   "cell_type": "markdown",
   "id": "560ef4a2-e3a9-48a6-8b56-d3bb7ac8b473",
   "metadata": {},
   "source": [
    "# Data Science Tools and Ecosystem"
   ]
  },
  {
   "cell_type": "markdown",
   "id": "910ab047-1eb9-4eb3-9a63-046aec86ce56",
   "metadata": {},
   "source": [
    "In this notebook, Data Science Tools and Ecosystem are summarized."
   ]
  },
  {
   "cell_type": "markdown",
   "id": "89a88b5e-158c-4418-941d-f38eb4a200fd",
   "metadata": {},
   "source": [
    "**Objectives:**\n",
    "+ List popular languages for Data Science\n",
    "+ List commonly used libraries used by Data Scientists\n",
    "+ List some open sourced Data Science development environments\n",
    "+ List some examples of arithmetic expression\n"
   ]
  },
  {
   "cell_type": "markdown",
   "id": "1d02d3b5-f572-465f-84d7-29c33911ee01",
   "metadata": {},
   "source": [
    "Some of the popular languages that Data Scientists use are:\n",
    "1. Python\n",
    "2. R\n",
    "3. Julia\n",
    "4. SQL"
   ]
  },
  {
   "cell_type": "markdown",
   "id": "5ccefc00-d5bd-4140-8111-038b28f1361c",
   "metadata": {},
   "source": [
    "## Some of the commonly used libraries used by Data Scientists include:\n",
    "1. Scikit\n",
    "2. Numpy\n",
    "3. Pandas"
   ]
  },
  {
   "cell_type": "markdown",
   "id": "11b75b32-de87-4965-ae49-61dc4505e3a1",
   "metadata": {},
   "source": [
    "| Data Science Tools |\n",
    "-------------\n",
    "| Jupyter Lab |\n",
    "| Rstudio |\n",
    "| Spyder |\n"
   ]
  },
  {
   "cell_type": "markdown",
   "id": "cb51f8ac-8c29-4183-a61d-7259975ec9d2",
   "metadata": {},
   "source": [
    "### Below are a few examples of evaluating arithmetic expressions in Python\n"
   ]
  },
  {
   "cell_type": "code",
   "execution_count": 5,
   "id": "081b9f47-14ae-40d5-93c6-54712e2b4170",
   "metadata": {},
   "outputs": [
    {
     "data": {
      "text/plain": [
       "17"
      ]
     },
     "execution_count": 5,
     "metadata": {},
     "output_type": "execute_result"
    }
   ],
   "source": [
    "(3*4)+5\n",
    "# This a simple arithmetic expression to mutiply then add integers"
   ]
  },
  {
   "cell_type": "code",
   "execution_count": 6,
   "id": "9e3bb8a5-ffbb-4d0f-ae67-e0a6f43b7da1",
   "metadata": {},
   "outputs": [
    {
     "data": {
      "text/plain": [
       "3.3333333333333335"
      ]
     },
     "execution_count": 6,
     "metadata": {},
     "output_type": "execute_result"
    }
   ],
   "source": [
    "200/60\n",
    "# This will convert 200 minutes to hours by diving by 60"
   ]
  },
  {
   "cell_type": "markdown",
   "id": "4db5b4e6-979c-4732-8702-eb3be8f8c04a",
   "metadata": {},
   "source": [
    "## Author\n",
    "Heather Blagg"
   ]
  },
  {
   "cell_type": "code",
   "execution_count": null,
   "id": "dacf5568-9ccc-4204-b913-6c3cc916fd00",
   "metadata": {},
   "outputs": [],
   "source": []
  }
 ],
 "metadata": {
  "kernelspec": {
   "display_name": "Python 3 (ipykernel)",
   "language": "python",
   "name": "python3"
  },
  "language_info": {
   "codemirror_mode": {
    "name": "ipython",
    "version": 3
   },
   "file_extension": ".py",
   "mimetype": "text/x-python",
   "name": "python",
   "nbconvert_exporter": "python",
   "pygments_lexer": "ipython3",
   "version": "3.11.5"
  }
 },
 "nbformat": 4,
 "nbformat_minor": 5
}
